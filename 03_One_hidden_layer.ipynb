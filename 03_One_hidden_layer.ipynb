{
 "cells": [
  {
   "cell_type": "markdown",
   "id": "cedbedf1",
   "metadata": {},
   "source": [
    "# One Hidden Layer\n",
    "#### A neural network with one hidden layer, using NumPy for:\n",
    "\n",
    "* Forward propagation\n",
    "\n",
    "* Backward propagation\n",
    "\n",
    "* Gradient descent\n",
    "\n",
    "* Binary classification "
   ]
  },
  {
   "cell_type": "code",
   "execution_count": 84,
   "id": "0cc200fb",
   "metadata": {},
   "outputs": [],
   "source": [
    "import numpy as np"
   ]
  },
  {
   "cell_type": "markdown",
   "id": "7feee283",
   "metadata": {},
   "source": [
    "## Activation functions\n",
    "* sigmoid(z): Computes the sigmoid activation, often used in the output layer for binary classification problems.\n",
    "        $$\\text{sigmoid}(z) = \\frac{1}{1 + e^{-z}}$$\n",
    "* `sigmoid_derivative(a): Computes the derivative of the sigmoid function, used in backpropagation.\n",
    "        $$\\text{sigmoid\\_derivative}(a) = a * (1 - a)$$\n",
    "* relu(z): Computes the Rectified Linear Unit (ReLU) activation, commonly used in hidden layers.\n",
    "        $$\\text{relu}(z) = \\text{max}(0, z)$$\n",
    "* relu_derivative(z): Computes the derivative of the ReLU function.\n",
    "        $$\\text{relu\\_derivative}(z) = \\begin{cases} 1 & \\text{if } z > 0 \\\\ 0 & \\text{if } z \\le 0 \\end{cases}$$"
   ]
  },
  {
   "cell_type": "code",
   "execution_count": 85,
   "id": "10c58bbb",
   "metadata": {},
   "outputs": [],
   "source": [
    "# Activation functions\n",
    "def sigmoid(z):\n",
    "    return 1 / (1 + np.exp(-z))\n",
    "\n",
    "def sigmoid_derivative(a):\n",
    "    return a * (1 - a)\n",
    "\n",
    "def relu(z):\n",
    "    return np.maximum(0, z)\n",
    "\n",
    "def relu_derivative(z):\n",
    "    return (z > 0).astype(float)"
   ]
  },
  {
   "cell_type": "markdown",
   "id": "4c7742af",
   "metadata": {},
   "source": [
    "## Parameter Initialization\n",
    "#### initialize_parameters(n_x, n_h, n_y): Initializes the weights (W1, W2) with small random values and biases (b1, b2) with zeros.\n",
    "* `n_x`: Size of the input layer.\n",
    "* `n_h`: Size of the hidden layer.\n",
    "* `n_y`: Size of the output layer."
   ]
  },
  {
   "cell_type": "code",
   "execution_count": 86,
   "id": "580a3b5b",
   "metadata": {},
   "outputs": [],
   "source": [
    "# Initialize parameters\n",
    "def initialize_parameters(n_x, n_h, n_y):\n",
    "    np.random.seed(1)\n",
    "    W1 = np.random.randn(n_h, n_x) * 0.01\n",
    "    b1 = np.zeros((n_h, 1))\n",
    "    W2 = np.random.randn(n_y, n_h) * 0.01\n",
    "    b2 = np.zeros((n_y, 1))\n",
    "    return W1, b1, W2, b2\n"
   ]
  },
  {
   "cell_type": "markdown",
   "id": "d55ef6f1",
   "metadata": {},
   "source": [
    "## Forward Propagation**\n",
    "* `forward_propagation(X, W1, b1, W2, b2)`: Performs the forward pass through the network.\n",
    "* Calculates the weighted sum (Z1) and activation (A1) for the hidden layer using ReLU.\n",
    "* Calculates the weighted sum (Z2) and activation (A2) for the output layer using sigmoid.\n",
    "* Stores intermediate values (`Z1`, `A1`, `Z2`, `A2`) in a `cache` for use in backpropagation."
   ]
  },
  {
   "cell_type": "code",
   "execution_count": 87,
   "id": "c8075e8d",
   "metadata": {},
   "outputs": [],
   "source": [
    "# Forward propagation\n",
    "def forward_propagation(X, W1, b1, W2, b2):\n",
    "    Z1 = np.dot(W1, X) + b1\n",
    "    A1 = relu(Z1)\n",
    "    Z2 = np.dot(W2, A1) + b2\n",
    "    A2 = sigmoid(Z2)\n",
    "    cache = (Z1, A1, Z2, A2)\n",
    "    return A2, cache"
   ]
  },
  {
   "cell_type": "markdown",
   "id": "618ae09f",
   "metadata": {},
   "source": [
    " ## Cost Computation\n",
    "* `compute_cost(A2, Y)`: Calculates the binary cross-entropy cost, a common loss function for binary classification.\n",
    "$$\\text{Cost} = - \\frac{1}{m} \\sum_{i=1}^{m} \\left( Y^{(i)} \\log(A_2^{(i)} + 1e-8) + (1 - Y^{(i)}) \\log(1 - A_2^{(i)} + 1e-8) \\right)$$\n",
    "(Note: `1e-8` is added for numerical stability to prevent log(0).)   "
   ]
  },
  {
   "cell_type": "code",
   "execution_count": 88,
   "id": "6b21abd8",
   "metadata": {},
   "outputs": [],
   "source": [
    "# Compute cost\n",
    "def compute_cost(A2, Y):\n",
    "    m = Y.shape[1]\n",
    "    cost = - (1/m) * np.sum(Y * np.log(A2 + 1e-8) + (1 - Y) * np.log(1 - A2 + 1e-8))\n",
    "    return np.squeeze(cost)"
   ]
  },
  {
   "cell_type": "markdown",
   "id": "44ca3641",
   "metadata": {},
   "source": [
    "## Backward Propagation\n",
    "* `backward_propagation(X, Y, W2, cache)`: Computes the gradients of the cost with respect to the weights and biases.\n",
    "* Uses the `cache` from forward propagation.\n",
    "* Calculates `dZ2`, `dW2`, `db2`, `dZ1`, `dW1`, and `db1`."
   ]
  },
  {
   "cell_type": "code",
   "execution_count": 89,
   "id": "12a69929",
   "metadata": {},
   "outputs": [],
   "source": [
    "# Backward propagation\n",
    "def backward_propagation(X, Y, W2, cache):\n",
    "    m = X.shape[1]\n",
    "    Z1, A1, Z2, A2 = cache\n",
    "\n",
    "    dZ2 = A2 - Y\n",
    "    dW2 = (1/m) * np.dot(dZ2, A1.T)\n",
    "    db2 = (1/m) * np.sum(dZ2, axis=1, keepdims=True)\n",
    "\n",
    "    dZ1 = np.dot(W2.T, dZ2) * relu_derivative(Z1)\n",
    "    dW1 = (1/m) * np.dot(dZ1, X.T)\n",
    "    db1 = (1/m) * np.sum(dZ1, axis=1, keepdims=True)\n",
    "\n",
    "    return dW1, db1, dW2, db2"
   ]
  },
  {
   "cell_type": "markdown",
   "id": "63dcb7af",
   "metadata": {},
   "source": [
    "## Parameter Update\n",
    "* `update_parameters(W1, b1, W2, b2, dW1, db1, dW2, db2, learning_rate)`: Updates the network's parameters using gradient descent.\n",
    "$$W_{new} = W - \\text{learning\\_rate} \\times dW$$\n",
    "$$b_{new} = b - \\text{learning\\_rate} \\times db$$"
   ]
  },
  {
   "cell_type": "code",
   "execution_count": 90,
   "id": "e58600c8",
   "metadata": {},
   "outputs": [],
   "source": [
    "# Update parameters\n",
    "def update_parameters(W1, b1, W2, b2, dW1, db1, dW2, db2, learning_rate):\n",
    "    W1 -= learning_rate * dW1\n",
    "    b1 -= learning_rate * db1\n",
    "    W2 -= learning_rate * dW2\n",
    "    b2 -= learning_rate * db2\n",
    "    return W1, b1, W2, b2"
   ]
  },
  {
   "cell_type": "markdown",
   "id": "21094d7c",
   "metadata": {},
   "source": [
    "## Training Function\n",
    "* `train(X, Y, n_h, num_iterations, learning_rate, print_cost)`: Orchestrates the training process.\n",
    "* Initializes parameters.\n",
    "* Iterates for a specified number of `num_iterations`, performing forward propagation, cost computation, backward propagation, and parameter updates.\n",
    "* Optionally prints the cost at regular intervals.\n",
    "* Returns the trained parameters and a list of costs over iterations."
   ]
  },
  {
   "cell_type": "code",
   "execution_count": 95,
   "id": "dc499704",
   "metadata": {},
   "outputs": [],
   "source": [
    "# Training Function\n",
    "def train(X, Y, n_h, num_iterations=20000, learning_rate=0.1, print_cost=False):\n",
    "    n_x = X.shape[0]\n",
    "    n_y = Y.shape[0]\n",
    "    W1, b1, W2, b2 = initialize_parameters(n_x, n_h, n_y)\n",
    "    costs = []  \n",
    "\n",
    "    for i in range(num_iterations):\n",
    "        A2, cache = forward_propagation(X, W1, b1, W2, b2)\n",
    "        cost = compute_cost(A2, Y)\n",
    "        dW1, db1, dW2, db2 = backward_propagation(X, Y, W2, cache)\n",
    "        W1, b1, W2, b2 = update_parameters(W1, b1, W2, b2, dW1, db1, dW2, db2, learning_rate)\n",
    "\n",
    "        if i % 100 == 0:\n",
    "            costs.append(cost)  \n",
    "            if print_cost and i % 1000 == 0:\n",
    "                print(f\"Cost after iteration {i}: {cost:.4f}\")\n",
    "\n",
    "    return W1, b1, W2, b2, costs  \n"
   ]
  },
  {
   "cell_type": "markdown",
   "id": "545cab1f",
   "metadata": {},
   "source": [
    "## Prediction Function\n",
    "* `predict(X, W1, b1, W2, b2)`: Makes predictions on new data.\n",
    "* Performs forward propagation.\n",
    "* Classifies outputs as 0 or 1 based on a threshold of 0.5."
   ]
  },
  {
   "cell_type": "code",
   "execution_count": 92,
   "id": "428833db",
   "metadata": {},
   "outputs": [],
   "source": [
    "# Predict\n",
    "def predict(X, W1, b1, W2, b2):\n",
    "    A2, _ = forward_propagation(X, W1, b1, W2, b2)\n",
    "    return (A2 > 0.5).astype(int)"
   ]
  },
  {
   "cell_type": "markdown",
   "id": "13342f72",
   "metadata": {},
   "source": [
    "### Example Usage (XOR Dataset)\n",
    "An example demonstrating the training and prediction on an XOR dataset, showcasing the network's ability to learn non-linear decision boundaries."
   ]
  },
  {
   "cell_type": "code",
   "execution_count": 97,
   "id": "7738396d",
   "metadata": {},
   "outputs": [
    {
     "name": "stdout",
     "output_type": "stream",
     "text": [
      "Cost after iteration 0: 0.6931\n",
      "Cost after iteration 1000: 0.3681\n",
      "Cost after iteration 2000: 0.3498\n",
      "Cost after iteration 3000: 0.3481\n",
      "Cost after iteration 4000: 0.3475\n",
      "Cost after iteration 5000: 0.3473\n",
      "Cost after iteration 6000: 0.3472\n",
      "Cost after iteration 7000: 0.3470\n",
      "Cost after iteration 8000: 0.3470\n",
      "Cost after iteration 9000: 0.3469\n",
      "Cost after iteration 10000: 0.3469\n",
      "Cost after iteration 11000: 0.3468\n",
      "Cost after iteration 12000: 0.3468\n",
      "Cost after iteration 13000: 0.3468\n",
      "Cost after iteration 14000: 0.3468\n",
      "Cost after iteration 15000: 0.3468\n",
      "Cost after iteration 16000: 0.3467\n",
      "Cost after iteration 17000: 0.3467\n",
      "Cost after iteration 18000: 0.3467\n",
      "Cost after iteration 19000: 0.3467\n",
      "Predictions: [[0 0 1 0]]\n",
      "Actual: [[0 1 1 0]]\n"
     ]
    }
   ],
   "source": [
    "# Example: XOR dataset\n",
    "X = np.array([[0, 0, 1, 1],\n",
    "              [0, 1, 0, 1]])   # shape: (2, 4)\n",
    "Y = np.array([[0, 1, 1, 0]])   # shape: (1, 4)\n",
    "\n",
    "W1, b1, W2, b2, costs = train(X, Y, n_h=4, num_iterations=20000, learning_rate=0.1, print_cost=True)\n",
    "\n",
    "# Predictions\n",
    "predictions = predict(X, W1, b1, W2, b2)\n",
    "print(\"Predictions:\", predictions)\n",
    "print(\"Actual:\", Y)\n"
   ]
  },
  {
   "cell_type": "code",
   "execution_count": null,
   "id": "5910f255",
   "metadata": {},
   "outputs": [
    {
     "data": {
      "image/png": "[encoded data removed]",
      "text/plain": [
       "<Figure size 1200x500 with 1 Axes>"
      ]
     },
     "metadata": {},
     "output_type": "display_data"
    }
   ],
   "source": [
    "import matplotlib.pyplot as plt\n",
    "# Plotting\n",
    "plt.figure(figsize=(12,5))\n",
    "\n",
    "# Plot cost over iterations\n",
    "plt.subplot(1, 2, 1)\n",
    "plt.plot(np.arange(0, 20000, 100), costs)\n",
    "plt.xlabel(\"Iteration\")\n",
    "plt.ylabel(\"Cost\")\n",
    "plt.title(\"Cost reduction over iterations\")\n",
    "\n",
    "plt.tight_layout()\n",
    "plt.show()"
   ]
  },
  {
   "cell_type": "code",
   "execution_count": null,
   "id": "6db917cb",
   "metadata": {},
   "outputs": [],
   "source": []
  }
 ],
 "metadata": {
  "kernelspec": {
   "display_name": "Python 3",
   "language": "python",
   "name": "python3"
  },
  "language_info": {
   "codemirror_mode": {
    "name": "ipython",
    "version": 3
   },
   "file_extension": ".py",
   "mimetype": "text/x-python",
   "name": "python",
   "nbconvert_exporter": "python",
   "pygments_lexer": "ipython3",
   "version": "3.11.9"
  }
 },
 "nbformat": 4,
 "nbformat_minor": 5
}
